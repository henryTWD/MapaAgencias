{
 "cells": [
  {
   "cell_type": "code",
   "execution_count": 5,
   "id": "5d3174d3-b030-426d-ab9c-0e1de7f20ec4",
   "metadata": {},
   "outputs": [
    {
     "name": "stdout",
     "output_type": "stream",
     "text": [
      "['Hoja1', 'Zafiro']\n"
     ]
    }
   ],
   "source": [
    "import pandas as pd\n",
    "\n",
    "# Cargar el archivo Excel\n",
    "agencias_data = pd.ExcelFile('agencias_asociadas.xlsx')\n",
    "\n",
    "# Verifica las hojas disponibles\n",
    "print(agencias_data.sheet_names)\n"
   ]
  },
  {
   "cell_type": "code",
   "execution_count": 7,
   "id": "e2980b26-375f-4f20-9bcd-14633443574a",
   "metadata": {},
   "outputs": [
    {
     "name": "stdout",
     "output_type": "stream",
     "text": [
      "              Nº OFI                      TITULAR                 DIRECCION  \\\n",
      "0   1751 (ANTES 721)   CORUÑA VIAJES Y TOURS S.L.          SAN NICOLÁS Nº 1   \n",
      "1  1767 (ANTES 1076)    PURIFICACION CASAL ITURBE  C/DE LA MERCED Nº 73, 3º   \n",
      "2               1814  Mª CONCEPCION MENDEZ GARCIA   PLAZA TORNOS Nº 3, BAJO   \n",
      "3               1413      VICTORIA NUÑEZ LENDOIRO  ROSALIA DE CASTRO 4 BAJO   \n",
      "4               1384       BALBINA FERNANDEZ ANTA            AVD. CORUÑA 17   \n",
      "\n",
      "                   Ubicación coordenadas  POBLACION   C.P. PROVINCIA     CCAA  \\\n",
      "0  43.37096418400478, -8.399117184443536   A CORUÑA  15001  A CORUÑA  GALICIA   \n",
      "1  43.53978536180339, -5.661096367086519   A CORUÑA  15009  A CORUÑA  GALICIA   \n",
      "2  43.35974930412347, -8.417854698216376   A CORUÑA  15007  A CORUÑA  GALICIA   \n",
      "3  43.276778308562434, -8.21031819157592   BETANZOS  15300  A CORUÑA  GALICIA   \n",
      "4   43.3161500715654, -8.364800403125251  CULLEREDO  15189  A CORUÑA  GALICIA   \n",
      "\n",
      "          CIF      PERSONA CONTACTO                       TELEFONO  \\\n",
      "0  B-72821010  CELSA PATIÑO DEL RIO  981 90 15 95  /  981 24 84 70   \n",
      "1  32802961-Q                   NaN                   981 91 49 40   \n",
      "2  32801171-C                   NaN  655 31 03 38  /  615 84 36 73   \n",
      "3  47365842-X                   NaN                   881 82 11 04   \n",
      "4  76721623-V                   NaN                   981 10 08 83   \n",
      "\n",
      "                            E-MAIL       NOMBRE COMERCIAL LICENCIA TURISMO  \n",
      "0  corunarondanelle@zafirotours.es  CORUÑA VIAJES & TOURS           XG-645  \n",
      "1      corunasanjurjo@costaeste.es          ITURBE VIAJES     XG-CO-000765  \n",
      "2      corunatornos@zafirotours.es                ZT 1814              NaN  \n",
      "3          betanzos@zafirotours.es                 ZT1413           XG-666  \n",
      "4         culleredo@zafirotours.es                 ZT1384           XG-649  \n"
     ]
    }
   ],
   "source": [
    "# Carga la hoja correspondiente\n",
    "df_agencias = agencias_data.parse('Hoja1')\n",
    "\n",
    "# Revisa las primeras filas\n",
    "print(df_agencias.head())\n"
   ]
  },
  {
   "cell_type": "code",
   "execution_count": 25,
   "id": "256f53e0-e17e-428b-a1ca-f6c43abc178d",
   "metadata": {},
   "outputs": [],
   "source": [
    "import folium\n",
    "import pandas as pd\n",
    "\n",
    "# Leer el archivo Excel y seleccionar la hoja \"Hoja1\"\n",
    "df = pd.read_excel('agencias_asociadas.xlsx', sheet_name='Hoja1')\n",
    "\n",
    "# Crear el objeto del mapa, centrado en España (puedes ajustar las coordenadas)\n",
    "mapa_agencias = folium.Map(location=[40.4168, -3.7038], zoom_start=6)\n",
    "\n",
    "# Añadir marcadores para cada agencia\n",
    "for _, row in df.iterrows():\n",
    "    # Verificar si la ubicación está disponible\n",
    "    if pd.notnull(row['Ubicación coordenadas']):\n",
    "        # Dividir las coordenadas en latitud y longitud\n",
    "        try:\n",
    "            lat, lon = map(float, row['Ubicación coordenadas'].split(', '))\n",
    "            \n",
    "            # Añadir el marcador\n",
    "            folium.Marker(\n",
    "                [lat, lon],\n",
    "                popup=row['Nº OFI'],  # Información emergente con el número de oficina\n",
    "                tooltip='Haz clic para ver la oficina',\n",
    "                icon=folium.Icon(color='green')\n",
    "            ).add_to(mapa_agencias)\n",
    "        except ValueError:\n",
    "            print(f\"Coordenadas incorrectas en la fila {_}\")\n",
    "\n",
    "# Guardar el mapa en un archivo HTML\n",
    "mapa_agencias.save('mapa_agencias_asociadas.html')\n",
    "\n"
   ]
  },
  {
   "cell_type": "code",
   "execution_count": null,
   "id": "f1f5c5db-f934-40ce-81e8-e106d804ba80",
   "metadata": {},
   "outputs": [],
   "source": []
  }
 ],
 "metadata": {
  "kernelspec": {
   "display_name": "Python 3 (ipykernel)",
   "language": "python",
   "name": "python3"
  },
  "language_info": {
   "codemirror_mode": {
    "name": "ipython",
    "version": 3
   },
   "file_extension": ".py",
   "mimetype": "text/x-python",
   "name": "python",
   "nbconvert_exporter": "python",
   "pygments_lexer": "ipython3",
   "version": "3.11.5"
  }
 },
 "nbformat": 4,
 "nbformat_minor": 5
}
